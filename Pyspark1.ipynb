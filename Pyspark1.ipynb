{
 "cells": [
  {
   "cell_type": "code",
   "execution_count": 1,
   "id": "17293629",
   "metadata": {},
   "outputs": [],
   "source": [
    "from pyspark.sql import SparkSession"
   ]
  },
  {
   "cell_type": "code",
   "execution_count": 2,
   "id": "60bbc4cf",
   "metadata": {},
   "outputs": [],
   "source": [
    "spark1 = SparkSession.builder.appName(\"test\").getOrCreate()"
   ]
  },
  {
   "cell_type": "code",
   "execution_count": 3,
   "id": "95d76af9",
   "metadata": {},
   "outputs": [
    {
     "data": {
      "text/html": [
       "\n",
       "            <div>\n",
       "                <p><b>SparkSession - in-memory</b></p>\n",
       "                \n",
       "        <div>\n",
       "            <p><b>SparkContext</b></p>\n",
       "\n",
       "            <p><a href=\"http://Kantilal-AI.mshome.net:4040\">Spark UI</a></p>\n",
       "\n",
       "            <dl>\n",
       "              <dt>Version</dt>\n",
       "                <dd><code>v3.4.1</code></dd>\n",
       "              <dt>Master</dt>\n",
       "                <dd><code>local[*]</code></dd>\n",
       "              <dt>AppName</dt>\n",
       "                <dd><code>test</code></dd>\n",
       "            </dl>\n",
       "        </div>\n",
       "        \n",
       "            </div>\n",
       "        "
      ],
      "text/plain": [
       "<pyspark.sql.session.SparkSession at 0x28059e030d0>"
      ]
     },
     "execution_count": 3,
     "metadata": {},
     "output_type": "execute_result"
    }
   ],
   "source": [
    "spark1"
   ]
  },
  {
   "cell_type": "code",
   "execution_count": 4,
   "id": "d40eed40",
   "metadata": {},
   "outputs": [],
   "source": [
    "#Data read"
   ]
  },
  {
   "cell_type": "code",
   "execution_count": 21,
   "id": "01e46b20",
   "metadata": {},
   "outputs": [],
   "source": [
    "df = spark1.read.csv(\"Bengaluru_House_Dataaws.csv\",header=True,inferSchema=True)"
   ]
  },
  {
   "cell_type": "code",
   "execution_count": 22,
   "id": "53925c70",
   "metadata": {},
   "outputs": [
    {
     "name": "stdout",
     "output_type": "stream",
     "text": [
      "+--------------------+-------------+--------------------+---------+-------+----------+----+-------+-----+\n",
      "|           area_type| availability|            location|     size|society|total_sqft|bath|balcony|price|\n",
      "+--------------------+-------------+--------------------+---------+-------+----------+----+-------+-----+\n",
      "|Super built-up  Area|       19-Dec|Electronic City P...|    2 BHK|Coomee |      1056|   2|      1|39.07|\n",
      "|          Plot  Area|Ready To Move|    Chikka Tirupathi|4 Bedroom|Theanmp|      2600|   5|      3|120.0|\n",
      "|      Built-up  Area|Ready To Move|         Uttarahalli|    3 BHK|   null|      1440|   2|      3| 62.0|\n",
      "|Super built-up  Area|Ready To Move|  Lingadheeranahalli|    3 BHK|Soiewre|      1521|   3|      1| 95.0|\n",
      "|Super built-up  Area|Ready To Move|            Kothanur|    2 BHK|   null|      1200|   2|      1| 51.0|\n",
      "|Super built-up  Area|Ready To Move|          Whitefield|    2 BHK|DuenaTa|      1170|   2|      1| 38.0|\n",
      "|Super built-up  Area|       18-May|    Old Airport Road|    4 BHK|Jaades |      2732|   4|   null|204.0|\n",
      "|Super built-up  Area|Ready To Move|        Rajaji Nagar|    4 BHK|Brway G|      3300|   4|   null|600.0|\n",
      "|Super built-up  Area|Ready To Move|        Marathahalli|    3 BHK|   null|      1310|   3|      1|63.25|\n",
      "|          Plot  Area|Ready To Move|        Gandhi Bazar|6 Bedroom|   null|      1020|   6|   null|370.0|\n",
      "|Super built-up  Area|       18-Feb|          Whitefield|    3 BHK|   null|      1800|   2|      2| 70.0|\n",
      "|          Plot  Area|Ready To Move|          Whitefield|4 Bedroom|Prrry M|      2785|   5|      3|295.0|\n",
      "|Super built-up  Area|Ready To Move|  7th Phase JP Nagar|    2 BHK|Shncyes|      1000|   2|      1| 38.0|\n",
      "|      Built-up  Area|Ready To Move|           Gottigere|    2 BHK|   null|      1100|   2|      2| 40.0|\n",
      "|          Plot  Area|Ready To Move|            Sarjapur|3 Bedroom|Skityer|      2250|   3|      2|148.0|\n",
      "|Super built-up  Area|Ready To Move|         Mysore Road|    2 BHK|PrntaEn|      1175|   2|      2| 73.5|\n",
      "|Super built-up  Area|Ready To Move|       Bisuvanahalli|    3 BHK|Prityel|      1180|   3|      2| 48.0|\n",
      "|Super built-up  Area|Ready To Move|Raja Rajeshwari N...|    3 BHK|GrrvaGr|      1540|   3|      3| 60.0|\n",
      "|Super built-up  Area|Ready To Move|Ramakrishnappa La...|    3 BHK|PeBayle|      2770|   4|      2|290.0|\n",
      "|Super built-up  Area|Ready To Move|  Manayata Tech Park|    2 BHK|   null|      1100|   2|      2| 48.0|\n",
      "+--------------------+-------------+--------------------+---------+-------+----------+----+-------+-----+\n",
      "only showing top 20 rows\n",
      "\n"
     ]
    }
   ],
   "source": [
    "df.show()"
   ]
  },
  {
   "cell_type": "code",
   "execution_count": 23,
   "id": "f9a206e9",
   "metadata": {},
   "outputs": [
    {
     "name": "stdout",
     "output_type": "stream",
     "text": [
      "root\n",
      " |-- area_type: string (nullable = true)\n",
      " |-- availability: string (nullable = true)\n",
      " |-- location: string (nullable = true)\n",
      " |-- size: string (nullable = true)\n",
      " |-- society: string (nullable = true)\n",
      " |-- total_sqft: string (nullable = true)\n",
      " |-- bath: integer (nullable = true)\n",
      " |-- balcony: integer (nullable = true)\n",
      " |-- price: double (nullable = true)\n",
      "\n"
     ]
    }
   ],
   "source": [
    "df.printSchema()"
   ]
  },
  {
   "cell_type": "code",
   "execution_count": 24,
   "id": "fb7a6571",
   "metadata": {},
   "outputs": [
    {
     "data": {
      "text/plain": [
       "[('area_type', 'string'),\n",
       " ('availability', 'string'),\n",
       " ('location', 'string'),\n",
       " ('size', 'string'),\n",
       " ('society', 'string'),\n",
       " ('total_sqft', 'string'),\n",
       " ('bath', 'int'),\n",
       " ('balcony', 'int'),\n",
       " ('price', 'double')]"
      ]
     },
     "execution_count": 24,
     "metadata": {},
     "output_type": "execute_result"
    }
   ],
   "source": [
    "df.dtypes"
   ]
  },
  {
   "cell_type": "code",
   "execution_count": 31,
   "id": "34071c8a",
   "metadata": {},
   "outputs": [
    {
     "name": "stdout",
     "output_type": "stream",
     "text": [
      "+--------------------+-------------+--------------------+---------+-------+-----------+----+-------+-----+\n",
      "|           area_type| availability|            location|     size|society| total_sqft|bath|balcony|price|\n",
      "+--------------------+-------------+--------------------+---------+-------+-----------+----+-------+-----+\n",
      "|Super built-up  Area|       19-Dec|Electronic City P...|    2 BHK|Coomee |       1056|   2|      1|39.07|\n",
      "|          Plot  Area|Ready To Move|    Chikka Tirupathi|4 Bedroom|Theanmp|       2600|   5|      3|120.0|\n",
      "|      Built-up  Area|Ready To Move|         Uttarahalli|    3 BHK|   null|       1440|   2|      3| 62.0|\n",
      "|Super built-up  Area|Ready To Move|  Lingadheeranahalli|    3 BHK|Soiewre|       1521|   3|      1| 95.0|\n",
      "|Super built-up  Area|Ready To Move|            Kothanur|    2 BHK|   null|       1200|   2|      1| 51.0|\n",
      "|Super built-up  Area|Ready To Move|          Whitefield|    2 BHK|DuenaTa|       1170|   2|      1| 38.0|\n",
      "|Super built-up  Area|       18-May|    Old Airport Road|    4 BHK|Jaades |       2732|   4|   null|204.0|\n",
      "|Super built-up  Area|Ready To Move|        Rajaji Nagar|    4 BHK|Brway G|       3300|   4|   null|600.0|\n",
      "|Super built-up  Area|Ready To Move|        Marathahalli|    3 BHK|   null|       1310|   3|      1|63.25|\n",
      "|          Plot  Area|Ready To Move|        Gandhi Bazar|6 Bedroom|   null|       1020|   6|   null|370.0|\n",
      "|Super built-up  Area|       18-Feb|          Whitefield|    3 BHK|   null|       1800|   2|      2| 70.0|\n",
      "|          Plot  Area|Ready To Move|          Whitefield|4 Bedroom|Prrry M|       2785|   5|      3|295.0|\n",
      "|Super built-up  Area|Ready To Move|  7th Phase JP Nagar|    2 BHK|Shncyes|       1000|   2|      1| 38.0|\n",
      "|      Built-up  Area|Ready To Move|           Gottigere|    2 BHK|   null|       1100|   2|      2| 40.0|\n",
      "|          Plot  Area|Ready To Move|            Sarjapur|3 Bedroom|Skityer|       2250|   3|      2|148.0|\n",
      "|Super built-up  Area|Ready To Move|         Mysore Road|    2 BHK|PrntaEn|       1175|   2|      2| 73.5|\n",
      "|Super built-up  Area|Ready To Move|       Bisuvanahalli|    3 BHK|Prityel|       1180|   3|      2| 48.0|\n",
      "|Super built-up  Area|Ready To Move|Raja Rajeshwari N...|    3 BHK|GrrvaGr|       1540|   3|      3| 60.0|\n",
      "|Super built-up  Area|Ready To Move|Ramakrishnappa La...|    3 BHK|PeBayle|       2770|   4|      2|290.0|\n",
      "|Super built-up  Area|Ready To Move|  Manayata Tech Park|    2 BHK|   null|       1100|   2|      2| 48.0|\n",
      "|      Built-up  Area|Ready To Move|             Kengeri|    1 BHK|   null|        600|   1|      1| 15.0|\n",
      "|Super built-up  Area|       19-Dec|          Binny Pete|    3 BHK|She 2rk|       1755|   3|      1|122.0|\n",
      "|          Plot  Area|Ready To Move|         Thanisandra|4 Bedroom|Soitya |       2800|   5|      2|380.0|\n",
      "|Super built-up  Area|Ready To Move|           Bellandur|    3 BHK|   null|       1767|   3|      1|103.0|\n",
      "|Super built-up  Area|       18-Nov|         Thanisandra|     1 RK|Bhe 2ko|        510|   1|      0|25.25|\n",
      "|Super built-up  Area|       18-May|     Mangammanapalya|    3 BHK|   null|       1250|   3|      2| 56.0|\n",
      "|Super built-up  Area|Ready To Move|     Electronic City|    2 BHK|Itelaa |        660|   1|      1| 23.1|\n",
      "|      Built-up  Area|       20-Dec|          Whitefield|    3 BHK|   null|       1610|   3|      2| 81.0|\n",
      "|Super built-up  Area|       17-Oct|    Ramagondanahalli|    2 BHK|ViistLa|       1151|   2|      2|48.77|\n",
      "|Super built-up  Area|Ready To Move|     Electronic City|    3 BHK|KBityo |       1025|   2|      1| 47.0|\n",
      "|Super built-up  Area|       19-Dec|           Yelahanka|    4 BHK|LedorSa|2100 - 2850|   4|      0|186.0|\n",
      "|Super built-up  Area|Ready To Move|       Bisuvanahalli|    3 BHK|Prityel|       1075|   2|      1| 35.0|\n",
      "|Super built-up  Area|Ready To Move|              Hebbal|    3 BHK|Mahosya|       1760|   2|      2|123.0|\n",
      "|Super built-up  Area|Ready To Move|Raja Rajeshwari N...|    3 BHK|GrrvaGr|       1693|   3|      3|57.39|\n",
      "|      Built-up  Area|Ready To Move|       Kasturi Nagar|    3 BHK|Kantsce|       1925|   3|   null|125.0|\n",
      "|Super built-up  Area|       21-Dec|      Kanakpura Road|    2 BHK|PrarePa|        700|   2|      1| 36.0|\n",
      "|Super built-up  Area|Ready To Move|Electronics City ...|    2 BHK|   null|       1070|   2|      1| 45.5|\n",
      "|Super built-up  Area|Ready To Move|        Kundalahalli|    3 BHK|Dieldli|       1724|   3|      2|125.0|\n",
      "|Super built-up  Area|Ready To Move|      Chikkalasandra|    3 BHK|   null|       1290|   2|      2|56.12|\n",
      "|      Built-up  Area|Ready To Move|         Uttarahalli|    2 BHK|   null|       1143|   2|      2| 45.0|\n",
      "|      Built-up  Area|Ready To Move|       Murugeshpalya|    2 BHK|Gentson|       1296|   2|   null| 81.0|\n",
      "|Super built-up  Area|       19-Dec|      Sarjapur  Road|    3 BHK|Soini T|       1254|   3|      2| 38.0|\n",
      "|Super built-up  Area|Ready To Move|         Ganga Nagar|    1 BHK|Ceove G|        600|   1|      0| 38.0|\n",
      "|          Plot  Area|Ready To Move|           Yelahanka|1 Bedroom|   null|        660|   1|      0| 48.0|\n",
      "|Super built-up  Area|       19-Sep|      Kanakpura Road|    2 BHK|Soazak |    1330.74|   2|      2|91.79|\n",
      "|          Plot  Area|Ready To Move|          HSR Layout|8 Bedroom|   null|        600|   9|   null|200.0|\n",
      "|Super built-up  Area|Ready To Move|        Doddathoguru|    2 BHK|LancyRe|        970|   2|      0| 33.0|\n",
      "|Super built-up  Area|       20-Sep|          Whitefield|    2 BHK|Goted U|       1459|   2|      1|94.82|\n",
      "|          Plot  Area|Ready To Move|            KR Puram|2 Bedroom|   null|        800|   1|      1|130.0|\n",
      "|      Built-up  Area|Ready To Move|    Himagiri Meadows|    2 BHK|   null|        869|   2|      1| 36.0|\n",
      "|Super built-up  Area|Ready To Move|        Adarsh Nagar|    2 BHK|Bhncyis|       1270|   2|      1| 50.0|\n",
      "|Super built-up  Area|       18-Mar|         Bhoganhalli|    3 BHK|Rosha I|       1670|   3|      1| 99.0|\n",
      "|      Built-up  Area|Ready To Move|          Whitefield|    3 BHK|Suent V|       2010|   3|      2| 91.0|\n",
      "|Super built-up  Area|Ready To Move|Lakshminarayana Pura|    2 BHK|RothaVa|       1185|   2|      2| 75.0|\n",
      "|Super built-up  Area|Ready To Move|           Yelahanka|    3 BHK|NCowsar|       1600|   2|      3| 75.0|\n",
      "|Super built-up  Area|Ready To Move|          Begur Road|    2 BHK|Dhalsh |       1200|   2|      2| 44.0|\n",
      "|      Built-up  Area|       20-Feb|         Devanahalli|4 Bedroom|BrereAt|3010 - 3410|null|   null|192.0|\n",
      "|Super built-up  Area|Ready To Move|Ramakrishnappa La...|    2 BHK|PeBayle|       1500|   2|      2|185.0|\n",
      "|          Plot  Area|Ready To Move|       Murugeshpalya|6 Bedroom|   null|       1407|   4|      1|150.0|\n",
      "|Super built-up  Area|Ready To Move|Govindaraja Nagar...|    2 BHK|   null|        840|   2|      2| 45.0|\n",
      "|          Plot  Area|Ready To Move|      Tharabanahalli|3 Bedroom|   null|       4395|   3|      2|240.0|\n",
      "|Super built-up  Area|Ready To Move|         Ganga Nagar|    2 BHK|Laavevi|        845|   2|      1| 55.0|\n",
      "|          Plot  Area|Ready To Move|          Whitefield|4 Bedroom|Chranya|       5700|   5|      3|650.0|\n",
      "|      Built-up  Area|Ready To Move|             Varthur|    2 BHK|HioraTr|       1160|   2|      2| 44.0|\n",
      "|      Built-up  Area|Ready To Move|        Bommanahalli|8 Bedroom|   null|       3000|   8|      0|140.0|\n",
      "|Super built-up  Area|Ready To Move|        Doddathoguru|    2 BHK|   null|       1100|   2|      1| 62.0|\n",
      "|Super built-up  Area|       18-Apr|              Gunjur|    2 BHK|BMineis|       1140|   2|      3| 43.0|\n",
      "|Super built-up  Area|Ready To Move|        Marathahalli|    2 BHK|   null|       1220|   2|      1| 57.0|\n",
      "|          Plot  Area|Ready To Move| Devarachikkanahalli|8 Bedroom|   null|       1350|   7|      0| 85.0|\n",
      "|Super built-up  Area|Ready To Move|      Kanakpura Road|    2 BHK|   null|       1005|   2|      1|36.68|\n",
      "|          Plot  Area|Ready To Move|         Double Road|3 Bedroom|   null|        500|   3|      2|100.0|\n",
      "|Super built-up  Area|       20-Aug|          Begur Road|    2 BHK|Pruthg |       1358|   2|      1|80.58|\n",
      "|Super built-up  Area|Ready To Move|         Hegde Nagar|    3 BHK|Sonosty|       1569|   3|      1|101.0|\n",
      "|Super built-up  Area|       18-Apr|        Haralur Road|    2 BHK|SNnia E|       1240|   2|      1| 70.0|\n",
      "|Super built-up  Area|Ready To Move|         Hennur Road|    3 BHK|Anavi B|       2089|   3|      2|140.0|\n",
      "|Super built-up  Area|Ready To Move|           Kothannur|    2 BHK|   null|       1206|   2|      1|48.23|\n",
      "|Super built-up  Area|Ready To Move|     Kalena Agrahara|    2 BHK|   null|       1150|   2|      3| 40.0|\n",
      "|      Built-up  Area|Ready To Move|  Cholanayakanahalli|    3 BHK|Viony H|       2511|   3|      3|205.0|\n",
      "|      Built-up  Area|Ready To Move|    Kaval Byrasandra|    2 BHK|   null|        460|   1|      0| 22.0|\n",
      "|      Built-up  Area|Ready To Move|         ISRO Layout|6 Bedroom|   null|       4400|   6|      3|250.0|\n",
      "|Super built-up  Area|Ready To Move|Kodanda Reddy Layout|    3 BHK|AdentEl|       1660|   2|      2|105.0|\n",
      "|      Built-up  Area|       18-Oct|         Hennur Road|4 Bedroom|Gollela|2957 - 3450|null|   null|224.5|\n",
      "|Super built-up  Area|       19-Mar|           Yelahanka|    2 BHK|Niareum|       1326|   2|      2| 78.0|\n",
      "|Super built-up  Area|Ready To Move|    Garudachar Palya|    3 BHK|   null|       1325|   2|      2| 60.8|\n",
      "|Super built-up  Area|Ready To Move|           EPIP Zone|    3 BHK|SJlynro|       1499|   5|      2|102.0|\n",
      "|      Built-up  Area|Ready To Move|         Hegde Nagar|6 Bedroom|   null|       3000|   7|      2|210.0|\n",
      "|Super built-up  Area|Ready To Move|      Kanakpura Road|    3 BHK|   null|       1665|   3|      2| 88.0|\n",
      "|Super built-up  Area|       17-Sep|          Dasanapura|    2 BHK|Tavenew|        708|   2|      2| 37.0|\n",
      "|Super built-up  Area|Ready To Move|        Kasavanhalli|    2 BHK|Srire S|       1060|   2|      2|58.06|\n",
      "|          Plot  Area|Ready To Move|        Rajaji Nagar|6 Bedroom|   null|        710|   6|      3|160.0|\n",
      "|      Built-up  Area|Ready To Move|        Sanjay nagar|    2 BHK|Saenti |       1000|   2|      2| 70.0|\n",
      "|Super built-up  Area|       18-Dec|     Electronic City|    2 BHK|   null|       1000|   2|      1|28.88|\n",
      "|Super built-up  Area|Ready To Move|      Mysore Highway|    3 BHK|   null|       1450|   2|      2| 70.0|\n",
      "|          Plot  Area|Ready To Move|         ISRO Layout|4 Bedroom|   null|       1200|   4|      2|155.0|\n",
      "|Super built-up  Area|       17-Aug|         Thanisandra|    2 BHK|Bhmesy |       1296|   2|      3| 80.0|\n",
      "|Super built-up  Area|Ready To Move|              Domlur|    3 BHK|   null|       1540|   3|      2| 90.0|\n",
      "|          Plot  Area|Ready To Move|             Kengeri|4 Bedroom|Goardth|       2894|   4|      1|245.0|\n",
      "|Super built-up  Area|Ready To Move|Sarjapura - Attib...|    3 BHK|   null|       1330|   2|      1| 48.0|\n",
      "|      Built-up  Area|Ready To Move|      Devasthanagalu|    2 BHK|   null|       1200|   2|      1| 65.0|\n",
      "|      Built-up  Area|Ready To Move|       T Dasarahalli|3 Bedroom|   null|       1200|   3|      1| 90.0|\n",
      "+--------------------+-------------+--------------------+---------+-------+-----------+----+-------+-----+\n",
      "only showing top 100 rows\n",
      "\n"
     ]
    }
   ],
   "source": [
    "df.show(100)"
   ]
  },
  {
   "cell_type": "code",
   "execution_count": 40,
   "id": "4d8d9392",
   "metadata": {},
   "outputs": [
    {
     "data": {
      "text/plain": [
       "[Row(area_type='Plot  Area', availability='Ready To Move', location='Kothannur', size='4 Bedroom', society=None, total_sqft='1600', bath=4, balcony=2, price=45.0),\n",
       " Row(area_type='Super built-up  Area', availability='Ready To Move', location='LB Shastri Nagar', size='2 BHK', society='ThhtsV ', total_sqft='1000', bath=2, balcony=1, price=49.5),\n",
       " Row(area_type='Plot  Area', availability='Ready To Move', location='Kundalahalli Colony', size='7 Bedroom', society=None, total_sqft='1400', bath=7, balcony=None, price=218.0),\n",
       " Row(area_type='Built-up  Area', availability='Ready To Move', location='Reliaable Tranquil Layout', size='2 BHK', society='Sariana', total_sqft='1256', bath=2, balcony=1, price=65.0),\n",
       " Row(area_type='Plot  Area', availability='Ready To Move', location='Vishwanatha Nagenahalli', size='6 Bedroom', society=None, total_sqft='1200', bath=5, balcony=None, price=130.0),\n",
       " Row(area_type='Built-up  Area', availability='Ready To Move', location='Sarjapur', size='3 BHK', society=None, total_sqft='1425', bath=3, balcony=2, price=57.0),\n",
       " Row(area_type='Plot  Area', availability='Ready To Move', location='Margondanahalli', size='5 Bedroom', society=None, total_sqft='1375', bath=5, balcony=1, price=125.0),\n",
       " Row(area_type='Super built-up  Area', availability='18-Apr', location='Hosur Road', size='3 BHK', society='PuendWe', total_sqft='1919', bath=3, balcony=2, price=117.0),\n",
       " Row(area_type='Super built-up  Area', availability='Ready To Move', location='Neeladri Nagar', size='3 BHK', society='GeereEc', total_sqft='2111', bath=3, balcony=2, price=103.0),\n",
       " Row(area_type='Super built-up  Area', availability='Ready To Move', location='Bannerghatta Road', size='2 BHK', society='SNity S', total_sqft='970', bath=2, balcony=1, price=57.0),\n",
       " Row(area_type='Super built-up  Area', availability='Ready To Move', location='VHBCS Layout', size='2 BHK', society='OlarkLa', total_sqft='1353', bath=2, balcony=2, price=110.0),\n",
       " Row(area_type='Super built-up  Area', availability='Ready To Move', location='Jalahalli', size='3 BHK', society='Reodsnc', total_sqft='1405', bath=2, balcony=1, price=85.0),\n",
       " Row(area_type='Super built-up  Area', availability='Ready To Move', location='Gubbalala', size='2 BHK', society='MauilTr', total_sqft='1285', bath=2, balcony=2, price=90.0),\n",
       " Row(area_type='Super built-up  Area', availability='18-May', location='Mahadevpura', size='2 BHK', society=None, total_sqft='1050', bath=2, balcony=1, price=42.0),\n",
       " Row(area_type='Super built-up  Area', availability='Ready To Move', location='Hebbal', size='2 BHK', society='Prersis', total_sqft='1349', bath=2, balcony=1, price=96.8),\n",
       " Row(area_type='Super built-up  Area', availability='Ready To Move', location='Sarjapur  Road', size='4 BHK', society='Maana E', total_sqft='4050', bath=2, balcony=1, price=450.0),\n",
       " Row(area_type='Plot  Area', availability='18-Jan', location='Weavers Colony', size='1 Bedroom', society=None, total_sqft='812', bath=1, balcony=0, price=26.0),\n",
       " Row(area_type='Super built-up  Area', availability='18-Jul', location='Udayapur Village', size='3 BHK', society='Plowsri', total_sqft='1440', bath=2, balcony=2, price=63.93),\n",
       " Row(area_type='Super built-up  Area', availability='Ready To Move', location='Sarjapur  Road', size='4 BHK', society='Puallhi', total_sqft='2425', bath=5, balcony=1, price=195.0),\n",
       " Row(area_type='Super built-up  Area', availability='Ready To Move', location='Sultan Palaya', size='4 BHK', society='RSntsAp', total_sqft='2200', bath=3, balcony=3, price=80.0),\n",
       " Row(area_type='Super built-up  Area', availability='18-Feb', location='Haralur Road', size='3 BHK', society='SNnia E', total_sqft='1810', bath=3, balcony=2, price=112.0),\n",
       " Row(area_type='Super built-up  Area', availability='Ready To Move', location='Cox Town', size='2 BHK', society=None, total_sqft='1200', bath=2, balcony=2, price=140.0),\n",
       " Row(area_type='Super built-up  Area', availability='Ready To Move', location='Electronic City', size='2 BHK', society='GMown E', total_sqft='1060', bath=2, balcony=1, price=52.0),\n",
       " Row(area_type='Super built-up  Area', availability='Ready To Move', location='Kenchenahalli', size='2 BHK', society='AriosPa', total_sqft='1015', bath=2, balcony=2, price=60.0),\n",
       " Row(area_type='Super built-up  Area', availability='18-Dec', location='Whitefield', size='4 BHK', society='Prtates', total_sqft='2830 - 2882', bath=5, balcony=0, price=154.5),\n",
       " Row(area_type='Plot  Area', availability='Ready To Move', location='Hosakerehalli', size='5 Bedroom', society=None, total_sqft='1500', bath=6, balcony=2, price=145.0),\n",
       " Row(area_type='Super built-up  Area', availability='Ready To Move', location='Kothanur', size='3 BHK', society=None, total_sqft='1454', bath=3, balcony=3, price=71.5),\n",
       " Row(area_type='Super built-up  Area', availability='Ready To Move', location='Annaiah Reddy Layout', size='2 BHK', society=None, total_sqft='1075', bath=2, balcony=2, price=48.0),\n",
       " Row(area_type='Plot  Area', availability='Ready To Move', location='Vidyaranyapura', size='5 Bedroom', society=None, total_sqft='774', bath=5, balcony=3, price=70.0),\n",
       " Row(area_type='Super built-up  Area', availability='Ready To Move', location='Raja Rajeshwari Nagar', size='2 BHK', society='GrrvaGr', total_sqft='1187', bath=2, balcony=2, price=40.14),\n",
       " Row(area_type='Carpet  Area', availability='Ready To Move', location='Hulimavu', size='1 BHK', society=None, total_sqft='500', bath=1, balcony=3, price=220.0),\n",
       " Row(area_type='Plot  Area', availability='Ready To Move', location='Rajarajeshwari Nagara', size='4 Bedroom', society=None, total_sqft='1200', bath=5, balcony=None, price=325.0),\n",
       " Row(area_type='Built-up  Area', availability='Ready To Move', location='Billekahalli', size='3 BHK', society=None, total_sqft='1805', bath=3, balcony=3, price=134.0),\n",
       " Row(area_type='Built-up  Area', availability='Ready To Move', location='Bannerghatta Road', size='3 BHK', society='Baanise', total_sqft='1527', bath=3, balcony=1, price=142.0),\n",
       " Row(area_type='Super built-up  Area', availability='Ready To Move', location='Yeshwanthpur', size='3 BHK', society='IBityin', total_sqft='1675', bath=3, balcony=None, price=92.13),\n",
       " Row(area_type='Super built-up  Area', availability='Ready To Move', location='Rachenahalli', size='2 BHK', society=None, total_sqft='1050', bath=2, balcony=2, price=52.71),\n",
       " Row(area_type='Plot  Area', availability='Ready To Move', location='Ramamurthy Nagar', size='7 Bedroom', society=None, total_sqft='1500', bath=9, balcony=2, price=250.0),\n",
       " Row(area_type='Super built-up  Area', availability='Ready To Move', location='Bellandur', size='2 BHK', society=None, total_sqft='1262', bath=2, balcony=2, price=47.0),\n",
       " Row(area_type='Super built-up  Area', availability='Ready To Move', location='Uttarahalli', size='3 BHK', society='Aklia R', total_sqft='1345', bath=2, balcony=1, price=57.0),\n",
       " Row(area_type='Super built-up  Area', availability='Ready To Move', location='Green Glen Layout', size='3 BHK', society='SoosePr', total_sqft='1715', bath=3, balcony=3, price=112.0),\n",
       " Row(area_type='Built-up  Area', availability='Ready To Move', location='Whitefield', size='5 Bedroom', society='ArsiaEx', total_sqft='3453', bath=4, balcony=0, price=231.0),\n",
       " Row(area_type='Super built-up  Area', availability='Ready To Move', location='Richards Town', size='4 BHK', society=None, total_sqft='3600', bath=5, balcony=None, price=400.0),\n",
       " Row(area_type='Built-up  Area', availability='Ready To Move', location='Raja Rajeshwari Nagar', size='2 BHK', society='Mahla T', total_sqft='1141', bath=2, balcony=1, price=60.0),\n",
       " Row(area_type='Super built-up  Area', availability='18-Jun', location='Padmanabhanagar', size='4 BHK', society='SollyCl', total_sqft='4689', bath=4, balcony=1, price=488.0),\n",
       " Row(area_type='Super built-up  Area', availability='Ready To Move', location='Doddathoguru', size='1 BHK', society=None, total_sqft='550', bath=1, balcony=1, price=17.0)]"
      ]
     },
     "execution_count": 40,
     "metadata": {},
     "output_type": "execute_result"
    }
   ],
   "source": [
    "df.tail(45)"
   ]
  },
  {
   "cell_type": "code",
   "execution_count": 35,
   "id": "8171fd61",
   "metadata": {},
   "outputs": [
    {
     "data": {
      "text/plain": [
       "pyspark.sql.column.Column"
      ]
     },
     "execution_count": 35,
     "metadata": {},
     "output_type": "execute_result"
    }
   ],
   "source": [
    "type(df['location'])"
   ]
  },
  {
   "cell_type": "code",
   "execution_count": 42,
   "id": "903f93eb",
   "metadata": {},
   "outputs": [
    {
     "name": "stdout",
     "output_type": "stream",
     "text": [
      "+-------+--------------------+-------------+----------+---------+-------+------------------+------------------+------------------+------------------+\n",
      "|summary|           area_type| availability|  location|     size|society|        total_sqft|              bath|           balcony|             price|\n",
      "+-------+--------------------+-------------+----------+---------+-------+------------------+------------------+------------------+------------------+\n",
      "|  count|               13320|        13320|     13319|    13304|   7818|             13320|             13247|             12711|             13320|\n",
      "|   mean|                null|         null|      null|     null|   null|1554.9420293735172|2.6926096474673513|1.5843757375501535|112.56562650150138|\n",
      "| stddev|                null|         null|      null|     null|   null| 1238.458772951733|1.3414580781243843|0.8172634299202008|148.97167376967377|\n",
      "|    min|      Built-up  Area|       14-Jul|    Anekal|    1 BHK|3Codeli|                 1|                 1|                 0|               8.0|\n",
      "|    max|Super built-up  Area|Ready To Move|whitefiled|9 Bedroom|i1rtsCo|               999|                40|                 3|            3600.0|\n",
      "+-------+--------------------+-------------+----------+---------+-------+------------------+------------------+------------------+------------------+\n",
      "\n"
     ]
    }
   ],
   "source": [
    "df.describe().show()"
   ]
  },
  {
   "cell_type": "code",
   "execution_count": 47,
   "id": "e63d9a7c",
   "metadata": {},
   "outputs": [
    {
     "data": {
      "text/plain": [
       "{'area_type': 'Super built-up  Area',\n",
       " 'availability': '19-Dec',\n",
       " 'location': 'Electronic City Phase II',\n",
       " 'size': '2 BHK',\n",
       " 'society': 'Coomee ',\n",
       " 'total_sqft': '1056',\n",
       " 'bath': 2,\n",
       " 'balcony': 1,\n",
       " 'price': 39.07}"
      ]
     },
     "execution_count": 47,
     "metadata": {},
     "output_type": "execute_result"
    }
   ],
   "source": [
    "df.head(2)[0].asDict()"
   ]
  },
  {
   "cell_type": "code",
   "execution_count": 48,
   "id": "9ab56788",
   "metadata": {},
   "outputs": [
    {
     "data": {
      "text/plain": [
       "13320"
      ]
     },
     "execution_count": 48,
     "metadata": {},
     "output_type": "execute_result"
    }
   ],
   "source": [
    "df.count()"
   ]
  },
  {
   "cell_type": "code",
   "execution_count": 53,
   "id": "b8675018",
   "metadata": {},
   "outputs": [],
   "source": [
    "import pandas as pd"
   ]
  },
  {
   "cell_type": "code",
   "execution_count": 54,
   "id": "d4371402",
   "metadata": {},
   "outputs": [],
   "source": [
    "df1 = pd.read_csv(\"Bengaluru_House_Dataaws.csv\")"
   ]
  },
  {
   "cell_type": "code",
   "execution_count": 56,
   "id": "8e242f35",
   "metadata": {},
   "outputs": [
    {
     "data": {
      "text/plain": [
       "(13320, 9)"
      ]
     },
     "execution_count": 56,
     "metadata": {},
     "output_type": "execute_result"
    }
   ],
   "source": [
    "df1.shape"
   ]
  },
  {
   "cell_type": "code",
   "execution_count": 58,
   "id": "95c451da",
   "metadata": {},
   "outputs": [
    {
     "data": {
      "text/plain": [
       "['area_type',\n",
       " 'availability',\n",
       " 'location',\n",
       " 'size',\n",
       " 'society',\n",
       " 'total_sqft',\n",
       " 'bath',\n",
       " 'balcony',\n",
       " 'price']"
      ]
     },
     "execution_count": 58,
     "metadata": {},
     "output_type": "execute_result"
    }
   ],
   "source": [
    "df.columns"
   ]
  },
  {
   "cell_type": "code",
   "execution_count": 59,
   "id": "af2715f0",
   "metadata": {},
   "outputs": [
    {
     "name": "stdout",
     "output_type": "stream",
     "text": [
      "+--------------------+-------------+--------------------+---------+-------+----------+----+-------+-----+\n",
      "|           area_type| availability|            location|     size|society|total_sqft|bath|balcony|price|\n",
      "+--------------------+-------------+--------------------+---------+-------+----------+----+-------+-----+\n",
      "|Super built-up  Area|       19-Dec|Electronic City P...|    2 BHK|Coomee |      1056|   2|      1|39.07|\n",
      "|          Plot  Area|Ready To Move|    Chikka Tirupathi|4 Bedroom|Theanmp|      2600|   5|      3|120.0|\n",
      "|      Built-up  Area|Ready To Move|         Uttarahalli|    3 BHK|   null|      1440|   2|      3| 62.0|\n",
      "|Super built-up  Area|Ready To Move|  Lingadheeranahalli|    3 BHK|Soiewre|      1521|   3|      1| 95.0|\n",
      "|Super built-up  Area|Ready To Move|            Kothanur|    2 BHK|   null|      1200|   2|      1| 51.0|\n",
      "|Super built-up  Area|Ready To Move|          Whitefield|    2 BHK|DuenaTa|      1170|   2|      1| 38.0|\n",
      "|Super built-up  Area|       18-May|    Old Airport Road|    4 BHK|Jaades |      2732|   4|   null|204.0|\n",
      "|Super built-up  Area|Ready To Move|        Rajaji Nagar|    4 BHK|Brway G|      3300|   4|   null|600.0|\n",
      "|Super built-up  Area|Ready To Move|        Marathahalli|    3 BHK|   null|      1310|   3|      1|63.25|\n",
      "|          Plot  Area|Ready To Move|        Gandhi Bazar|6 Bedroom|   null|      1020|   6|   null|370.0|\n",
      "|Super built-up  Area|       18-Feb|          Whitefield|    3 BHK|   null|      1800|   2|      2| 70.0|\n",
      "|          Plot  Area|Ready To Move|          Whitefield|4 Bedroom|Prrry M|      2785|   5|      3|295.0|\n",
      "|Super built-up  Area|Ready To Move|  7th Phase JP Nagar|    2 BHK|Shncyes|      1000|   2|      1| 38.0|\n",
      "|      Built-up  Area|Ready To Move|           Gottigere|    2 BHK|   null|      1100|   2|      2| 40.0|\n",
      "|          Plot  Area|Ready To Move|            Sarjapur|3 Bedroom|Skityer|      2250|   3|      2|148.0|\n",
      "|Super built-up  Area|Ready To Move|         Mysore Road|    2 BHK|PrntaEn|      1175|   2|      2| 73.5|\n",
      "|Super built-up  Area|Ready To Move|       Bisuvanahalli|    3 BHK|Prityel|      1180|   3|      2| 48.0|\n",
      "|Super built-up  Area|Ready To Move|Raja Rajeshwari N...|    3 BHK|GrrvaGr|      1540|   3|      3| 60.0|\n",
      "|Super built-up  Area|Ready To Move|Ramakrishnappa La...|    3 BHK|PeBayle|      2770|   4|      2|290.0|\n",
      "|Super built-up  Area|Ready To Move|  Manayata Tech Park|    2 BHK|   null|      1100|   2|      2| 48.0|\n",
      "+--------------------+-------------+--------------------+---------+-------+----------+----+-------+-----+\n",
      "only showing top 20 rows\n",
      "\n"
     ]
    }
   ],
   "source": [
    "df.show()"
   ]
  },
  {
   "cell_type": "code",
   "execution_count": 64,
   "id": "bf99c7e7",
   "metadata": {},
   "outputs": [
    {
     "data": {
      "text/plain": [
       "0        Electronic City Phase II\n",
       "1                Chikka Tirupathi\n",
       "2                     Uttarahalli\n",
       "3              Lingadheeranahalli\n",
       "4                        Kothanur\n",
       "                   ...           \n",
       "13315                  Whitefield\n",
       "13316               Richards Town\n",
       "13317       Raja Rajeshwari Nagar\n",
       "13318             Padmanabhanagar\n",
       "13319                Doddathoguru\n",
       "Name: location, Length: 13320, dtype: object"
      ]
     },
     "execution_count": 64,
     "metadata": {},
     "output_type": "execute_result"
    }
   ],
   "source": [
    "df1['location']"
   ]
  },
  {
   "cell_type": "code",
   "execution_count": 65,
   "id": "9440fce2",
   "metadata": {},
   "outputs": [
    {
     "data": {
      "text/plain": [
       "Column<'location'>"
      ]
     },
     "execution_count": 65,
     "metadata": {},
     "output_type": "execute_result"
    }
   ],
   "source": [
    "df['location']"
   ]
  },
  {
   "cell_type": "code",
   "execution_count": 66,
   "id": "6595623b",
   "metadata": {},
   "outputs": [],
   "source": [
    "#select Method"
   ]
  },
  {
   "cell_type": "code",
   "execution_count": 71,
   "id": "8fe43ab7",
   "metadata": {},
   "outputs": [
    {
     "name": "stdout",
     "output_type": "stream",
     "text": [
      "+--------------------+\n",
      "|            location|\n",
      "+--------------------+\n",
      "|Electronic City P...|\n",
      "|    Chikka Tirupathi|\n",
      "|         Uttarahalli|\n",
      "|  Lingadheeranahalli|\n",
      "|            Kothanur|\n",
      "|          Whitefield|\n",
      "|    Old Airport Road|\n",
      "|        Rajaji Nagar|\n",
      "|        Marathahalli|\n",
      "|        Gandhi Bazar|\n",
      "|          Whitefield|\n",
      "|          Whitefield|\n",
      "|  7th Phase JP Nagar|\n",
      "|           Gottigere|\n",
      "|            Sarjapur|\n",
      "|         Mysore Road|\n",
      "|       Bisuvanahalli|\n",
      "|Raja Rajeshwari N...|\n",
      "|Ramakrishnappa La...|\n",
      "|  Manayata Tech Park|\n",
      "+--------------------+\n",
      "only showing top 20 rows\n",
      "\n"
     ]
    }
   ],
   "source": [
    "df.select(\"location\").show()"
   ]
  },
  {
   "cell_type": "code",
   "execution_count": 72,
   "id": "6444c989",
   "metadata": {},
   "outputs": [
    {
     "name": "stdout",
     "output_type": "stream",
     "text": [
      "+--------------------+----+\n",
      "|            location|bath|\n",
      "+--------------------+----+\n",
      "|Electronic City P...|   2|\n",
      "|    Chikka Tirupathi|   5|\n",
      "|         Uttarahalli|   2|\n",
      "|  Lingadheeranahalli|   3|\n",
      "|            Kothanur|   2|\n",
      "|          Whitefield|   2|\n",
      "|    Old Airport Road|   4|\n",
      "|        Rajaji Nagar|   4|\n",
      "|        Marathahalli|   3|\n",
      "|        Gandhi Bazar|   6|\n",
      "|          Whitefield|   2|\n",
      "|          Whitefield|   5|\n",
      "|  7th Phase JP Nagar|   2|\n",
      "|           Gottigere|   2|\n",
      "|            Sarjapur|   3|\n",
      "|         Mysore Road|   2|\n",
      "|       Bisuvanahalli|   3|\n",
      "|Raja Rajeshwari N...|   3|\n",
      "|Ramakrishnappa La...|   4|\n",
      "|  Manayata Tech Park|   2|\n",
      "+--------------------+----+\n",
      "only showing top 20 rows\n",
      "\n"
     ]
    }
   ],
   "source": [
    "df.select(['location','bath']).show()"
   ]
  },
  {
   "cell_type": "code",
   "execution_count": 75,
   "id": "8c9c7f6b",
   "metadata": {},
   "outputs": [
    {
     "data": {
      "text/plain": [
       "1306"
      ]
     },
     "execution_count": 75,
     "metadata": {},
     "output_type": "execute_result"
    }
   ],
   "source": [
    "df.select('location').distinct().count()"
   ]
  },
  {
   "cell_type": "code",
   "execution_count": 76,
   "id": "dfeeb8ab",
   "metadata": {},
   "outputs": [
    {
     "data": {
      "text/plain": [
       "1305"
      ]
     },
     "execution_count": 76,
     "metadata": {},
     "output_type": "execute_result"
    }
   ],
   "source": [
    "df1['location'].nunique()"
   ]
  },
  {
   "cell_type": "code",
   "execution_count": 80,
   "id": "33a5e934",
   "metadata": {},
   "outputs": [],
   "source": [
    "#insert new col"
   ]
  },
  {
   "cell_type": "code",
   "execution_count": 81,
   "id": "ed7389e6",
   "metadata": {},
   "outputs": [
    {
     "name": "stdout",
     "output_type": "stream",
     "text": [
      "+--------------------+-------------+--------------------+---------+-------+----------+----+-------+-----+\n",
      "|           area_type| availability|            location|     size|society|total_sqft|bath|balcony|price|\n",
      "+--------------------+-------------+--------------------+---------+-------+----------+----+-------+-----+\n",
      "|Super built-up  Area|       19-Dec|Electronic City P...|    2 BHK|Coomee |      1056|   2|      1|39.07|\n",
      "|          Plot  Area|Ready To Move|    Chikka Tirupathi|4 Bedroom|Theanmp|      2600|   5|      3|120.0|\n",
      "|      Built-up  Area|Ready To Move|         Uttarahalli|    3 BHK|   null|      1440|   2|      3| 62.0|\n",
      "|Super built-up  Area|Ready To Move|  Lingadheeranahalli|    3 BHK|Soiewre|      1521|   3|      1| 95.0|\n",
      "|Super built-up  Area|Ready To Move|            Kothanur|    2 BHK|   null|      1200|   2|      1| 51.0|\n",
      "|Super built-up  Area|Ready To Move|          Whitefield|    2 BHK|DuenaTa|      1170|   2|      1| 38.0|\n",
      "|Super built-up  Area|       18-May|    Old Airport Road|    4 BHK|Jaades |      2732|   4|   null|204.0|\n",
      "|Super built-up  Area|Ready To Move|        Rajaji Nagar|    4 BHK|Brway G|      3300|   4|   null|600.0|\n",
      "|Super built-up  Area|Ready To Move|        Marathahalli|    3 BHK|   null|      1310|   3|      1|63.25|\n",
      "|          Plot  Area|Ready To Move|        Gandhi Bazar|6 Bedroom|   null|      1020|   6|   null|370.0|\n",
      "|Super built-up  Area|       18-Feb|          Whitefield|    3 BHK|   null|      1800|   2|      2| 70.0|\n",
      "|          Plot  Area|Ready To Move|          Whitefield|4 Bedroom|Prrry M|      2785|   5|      3|295.0|\n",
      "|Super built-up  Area|Ready To Move|  7th Phase JP Nagar|    2 BHK|Shncyes|      1000|   2|      1| 38.0|\n",
      "|      Built-up  Area|Ready To Move|           Gottigere|    2 BHK|   null|      1100|   2|      2| 40.0|\n",
      "|          Plot  Area|Ready To Move|            Sarjapur|3 Bedroom|Skityer|      2250|   3|      2|148.0|\n",
      "|Super built-up  Area|Ready To Move|         Mysore Road|    2 BHK|PrntaEn|      1175|   2|      2| 73.5|\n",
      "|Super built-up  Area|Ready To Move|       Bisuvanahalli|    3 BHK|Prityel|      1180|   3|      2| 48.0|\n",
      "|Super built-up  Area|Ready To Move|Raja Rajeshwari N...|    3 BHK|GrrvaGr|      1540|   3|      3| 60.0|\n",
      "|Super built-up  Area|Ready To Move|Ramakrishnappa La...|    3 BHK|PeBayle|      2770|   4|      2|290.0|\n",
      "|Super built-up  Area|Ready To Move|  Manayata Tech Park|    2 BHK|   null|      1100|   2|      2| 48.0|\n",
      "+--------------------+-------------+--------------------+---------+-------+----------+----+-------+-----+\n",
      "only showing top 20 rows\n",
      "\n"
     ]
    }
   ],
   "source": [
    "df.show()"
   ]
  },
  {
   "cell_type": "code",
   "execution_count": 88,
   "id": "fd68fa4e",
   "metadata": {},
   "outputs": [],
   "source": [
    "finaldf = df.withColumn(\"price11\",df['price']*2)"
   ]
  },
  {
   "cell_type": "code",
   "execution_count": 92,
   "id": "c2d7cb9e",
   "metadata": {},
   "outputs": [
    {
     "name": "stdout",
     "output_type": "stream",
     "text": [
      "+--------------------+-------------+--------------------+---------+-------+----------+----+-------+-----+----------+\n",
      "|           area_type| availability|            location|     size|society|total_sqft|bath|balcony|price|finalprice|\n",
      "+--------------------+-------------+--------------------+---------+-------+----------+----+-------+-----+----------+\n",
      "|Super built-up  Area|       19-Dec|Electronic City P...|    2 BHK|Coomee |      1056|   2|      1|39.07|     78.14|\n",
      "|          Plot  Area|Ready To Move|    Chikka Tirupathi|4 Bedroom|Theanmp|      2600|   5|      3|120.0|     240.0|\n",
      "|      Built-up  Area|Ready To Move|         Uttarahalli|    3 BHK|   null|      1440|   2|      3| 62.0|     124.0|\n",
      "|Super built-up  Area|Ready To Move|  Lingadheeranahalli|    3 BHK|Soiewre|      1521|   3|      1| 95.0|     190.0|\n",
      "|Super built-up  Area|Ready To Move|            Kothanur|    2 BHK|   null|      1200|   2|      1| 51.0|     102.0|\n",
      "|Super built-up  Area|Ready To Move|          Whitefield|    2 BHK|DuenaTa|      1170|   2|      1| 38.0|      76.0|\n",
      "|Super built-up  Area|       18-May|    Old Airport Road|    4 BHK|Jaades |      2732|   4|   null|204.0|     408.0|\n",
      "|Super built-up  Area|Ready To Move|        Rajaji Nagar|    4 BHK|Brway G|      3300|   4|   null|600.0|    1200.0|\n",
      "|Super built-up  Area|Ready To Move|        Marathahalli|    3 BHK|   null|      1310|   3|      1|63.25|     126.5|\n",
      "|          Plot  Area|Ready To Move|        Gandhi Bazar|6 Bedroom|   null|      1020|   6|   null|370.0|     740.0|\n",
      "|Super built-up  Area|       18-Feb|          Whitefield|    3 BHK|   null|      1800|   2|      2| 70.0|     140.0|\n",
      "|          Plot  Area|Ready To Move|          Whitefield|4 Bedroom|Prrry M|      2785|   5|      3|295.0|     590.0|\n",
      "|Super built-up  Area|Ready To Move|  7th Phase JP Nagar|    2 BHK|Shncyes|      1000|   2|      1| 38.0|      76.0|\n",
      "|      Built-up  Area|Ready To Move|           Gottigere|    2 BHK|   null|      1100|   2|      2| 40.0|      80.0|\n",
      "|          Plot  Area|Ready To Move|            Sarjapur|3 Bedroom|Skityer|      2250|   3|      2|148.0|     296.0|\n",
      "|Super built-up  Area|Ready To Move|         Mysore Road|    2 BHK|PrntaEn|      1175|   2|      2| 73.5|     147.0|\n",
      "|Super built-up  Area|Ready To Move|       Bisuvanahalli|    3 BHK|Prityel|      1180|   3|      2| 48.0|      96.0|\n",
      "|Super built-up  Area|Ready To Move|Raja Rajeshwari N...|    3 BHK|GrrvaGr|      1540|   3|      3| 60.0|     120.0|\n",
      "|Super built-up  Area|Ready To Move|Ramakrishnappa La...|    3 BHK|PeBayle|      2770|   4|      2|290.0|     580.0|\n",
      "|Super built-up  Area|Ready To Move|  Manayata Tech Park|    2 BHK|   null|      1100|   2|      2| 48.0|      96.0|\n",
      "+--------------------+-------------+--------------------+---------+-------+----------+----+-------+-----+----------+\n",
      "only showing top 20 rows\n",
      "\n"
     ]
    }
   ],
   "source": [
    "finaldf.withColumnRenamed(\"price11\",\"finalprice\").show()"
   ]
  },
  {
   "cell_type": "code",
   "execution_count": 93,
   "id": "ae5dc639",
   "metadata": {},
   "outputs": [
    {
     "data": {
      "text/plain": [
       "[('area_type', 'string'),\n",
       " ('availability', 'string'),\n",
       " ('location', 'string'),\n",
       " ('size', 'string'),\n",
       " ('society', 'string'),\n",
       " ('total_sqft', 'string'),\n",
       " ('bath', 'int'),\n",
       " ('balcony', 'int'),\n",
       " ('price', 'double')]"
      ]
     },
     "execution_count": 93,
     "metadata": {},
     "output_type": "execute_result"
    }
   ],
   "source": [
    "df.dtypes"
   ]
  },
  {
   "cell_type": "code",
   "execution_count": 95,
   "id": "90c4933b",
   "metadata": {},
   "outputs": [
    {
     "name": "stdout",
     "output_type": "stream",
     "text": [
      "+--------------------+-------------+--------------------+---------+-------+----------+----+-------+-----+-------+\n",
      "|           area_type| availability|            location|     size|society|total_sqft|bath|balcony|price|price11|\n",
      "+--------------------+-------------+--------------------+---------+-------+----------+----+-------+-----+-------+\n",
      "|Super built-up  Area|       19-Dec|Electronic City P...|    2 BHK|Coomee |      1056|   2|      1|39.07|  78.14|\n",
      "|          Plot  Area|Ready To Move|    Chikka Tirupathi|4 Bedroom|Theanmp|      2600|   5|      3|120.0|  240.0|\n",
      "|      Built-up  Area|Ready To Move|         Uttarahalli|    3 BHK|   null|      1440|   2|      3| 62.0|  124.0|\n",
      "|Super built-up  Area|Ready To Move|  Lingadheeranahalli|    3 BHK|Soiewre|      1521|   3|      1| 95.0|  190.0|\n",
      "|Super built-up  Area|Ready To Move|            Kothanur|    2 BHK|   null|      1200|   2|      1| 51.0|  102.0|\n",
      "|Super built-up  Area|Ready To Move|          Whitefield|    2 BHK|DuenaTa|      1170|   2|      1| 38.0|   76.0|\n",
      "|Super built-up  Area|       18-May|    Old Airport Road|    4 BHK|Jaades |      2732|   4|   null|204.0|  408.0|\n",
      "|Super built-up  Area|Ready To Move|        Rajaji Nagar|    4 BHK|Brway G|      3300|   4|   null|600.0| 1200.0|\n",
      "|Super built-up  Area|Ready To Move|        Marathahalli|    3 BHK|   null|      1310|   3|      1|63.25|  126.5|\n",
      "|          Plot  Area|Ready To Move|        Gandhi Bazar|6 Bedroom|   null|      1020|   6|   null|370.0|  740.0|\n",
      "|Super built-up  Area|       18-Feb|          Whitefield|    3 BHK|   null|      1800|   2|      2| 70.0|  140.0|\n",
      "|          Plot  Area|Ready To Move|          Whitefield|4 Bedroom|Prrry M|      2785|   5|      3|295.0|  590.0|\n",
      "|Super built-up  Area|Ready To Move|  7th Phase JP Nagar|    2 BHK|Shncyes|      1000|   2|      1| 38.0|   76.0|\n",
      "|      Built-up  Area|Ready To Move|           Gottigere|    2 BHK|   null|      1100|   2|      2| 40.0|   80.0|\n",
      "|          Plot  Area|Ready To Move|            Sarjapur|3 Bedroom|Skityer|      2250|   3|      2|148.0|  296.0|\n",
      "|Super built-up  Area|Ready To Move|         Mysore Road|    2 BHK|PrntaEn|      1175|   2|      2| 73.5|  147.0|\n",
      "|Super built-up  Area|Ready To Move|       Bisuvanahalli|    3 BHK|Prityel|      1180|   3|      2| 48.0|   96.0|\n",
      "|Super built-up  Area|Ready To Move|Raja Rajeshwari N...|    3 BHK|GrrvaGr|      1540|   3|      3| 60.0|  120.0|\n",
      "|Super built-up  Area|Ready To Move|Ramakrishnappa La...|    3 BHK|PeBayle|      2770|   4|      2|290.0|  580.0|\n",
      "|Super built-up  Area|Ready To Move|  Manayata Tech Park|    2 BHK|   null|      1100|   2|      2| 48.0|   96.0|\n",
      "+--------------------+-------------+--------------------+---------+-------+----------+----+-------+-----+-------+\n",
      "only showing top 20 rows\n",
      "\n"
     ]
    }
   ],
   "source": [
    "finaldf.show()"
   ]
  },
  {
   "cell_type": "code",
   "execution_count": 98,
   "id": "fe901a03",
   "metadata": {},
   "outputs": [],
   "source": [
    "from pyspark.sql.types import StringType,BooleanType,IntegerType,FloatType,LongType,StructType,StructField"
   ]
  },
  {
   "cell_type": "code",
   "execution_count": 103,
   "id": "9177ddae",
   "metadata": {},
   "outputs": [],
   "source": [
    "schema = StructType([\n",
    "    StructField(\"area_type\",StringType(),True),\n",
    "    StructField(\"availability\",StringType(),True),\n",
    "    StructField(\"location\",StringType(),True),\n",
    "    StructField(\"size\",StringType(),True),\n",
    "    StructField(\"society\",StringType(),True),\n",
    "    StructField(\"total_sqft\",StringType(),True),\n",
    "    StructField(\"bath\",StringType(),True),\n",
    "    StructField(\"balcony\",StringType(),True),\n",
    "    StructField(\"price\",StringType(),True),\n",
    "    \n",
    "    \n",
    "])"
   ]
  },
  {
   "cell_type": "code",
   "execution_count": 106,
   "id": "dab76cb5",
   "metadata": {},
   "outputs": [],
   "source": [
    "df2 = spark1.createDataFrame(df1,schema)"
   ]
  },
  {
   "cell_type": "code",
   "execution_count": 107,
   "id": "21f78138",
   "metadata": {},
   "outputs": [
    {
     "ename": "Py4JJavaError",
     "evalue": "An error occurred while calling o282.showString.\n: org.apache.spark.SparkException: Job aborted due to stage failure: Task 0 in stage 54.0 failed 1 times, most recent failure: Lost task 0.0 in stage 54.0 (TID 48) (Kantilal-AI.mshome.net executor driver): org.apache.spark.SparkException: Python worker failed to connect back.\r\n\tat org.apache.spark.api.python.PythonWorkerFactory.createSimpleWorker(PythonWorkerFactory.scala:192)\r\n\tat org.apache.spark.api.python.PythonWorkerFactory.create(PythonWorkerFactory.scala:109)\r\n\tat org.apache.spark.SparkEnv.createPythonWorker(SparkEnv.scala:124)\r\n\tat org.apache.spark.api.python.BasePythonRunner.compute(PythonRunner.scala:166)\r\n\tat org.apache.spark.api.python.PythonRDD.compute(PythonRDD.scala:65)\r\n\tat org.apache.spark.rdd.RDD.computeOrReadCheckpoint(RDD.scala:364)\r\n\tat org.apache.spark.rdd.RDD.iterator(RDD.scala:328)\r\n\tat org.apache.spark.rdd.MapPartitionsRDD.compute(MapPartitionsRDD.scala:52)\r\n\tat org.apache.spark.rdd.RDD.computeOrReadCheckpoint(RDD.scala:364)\r\n\tat org.apache.spark.rdd.RDD.iterator(RDD.scala:328)\r\n\tat org.apache.spark.rdd.MapPartitionsRDD.compute(MapPartitionsRDD.scala:52)\r\n\tat org.apache.spark.rdd.RDD.computeOrReadCheckpoint(RDD.scala:364)\r\n\tat org.apache.spark.rdd.RDD.iterator(RDD.scala:328)\r\n\tat org.apache.spark.rdd.MapPartitionsRDD.compute(MapPartitionsRDD.scala:52)\r\n\tat org.apache.spark.rdd.RDD.computeOrReadCheckpoint(RDD.scala:364)\r\n\tat org.apache.spark.rdd.RDD.iterator(RDD.scala:328)\r\n\tat org.apache.spark.rdd.MapPartitionsRDD.compute(MapPartitionsRDD.scala:52)\r\n\tat org.apache.spark.rdd.RDD.computeOrReadCheckpoint(RDD.scala:364)\r\n\tat org.apache.spark.rdd.RDD.iterator(RDD.scala:328)\r\n\tat org.apache.spark.rdd.MapPartitionsRDD.compute(MapPartitionsRDD.scala:52)\r\n\tat org.apache.spark.rdd.RDD.computeOrReadCheckpoint(RDD.scala:364)\r\n\tat org.apache.spark.rdd.RDD.iterator(RDD.scala:328)\r\n\tat org.apache.spark.scheduler.ResultTask.runTask(ResultTask.scala:92)\r\n\tat org.apache.spark.TaskContext.runTaskWithListeners(TaskContext.scala:161)\r\n\tat org.apache.spark.scheduler.Task.run(Task.scala:139)\r\n\tat org.apache.spark.executor.Executor$TaskRunner.$anonfun$run$3(Executor.scala:554)\r\n\tat org.apache.spark.util.Utils$.tryWithSafeFinally(Utils.scala:1529)\r\n\tat org.apache.spark.executor.Executor$TaskRunner.run(Executor.scala:557)\r\n\tat java.util.concurrent.ThreadPoolExecutor.runWorker(ThreadPoolExecutor.java:1149)\r\n\tat java.util.concurrent.ThreadPoolExecutor$Worker.run(ThreadPoolExecutor.java:624)\r\n\tat java.lang.Thread.run(Thread.java:748)\r\nCaused by: java.net.SocketTimeoutException: Accept timed out\r\n\tat java.net.DualStackPlainSocketImpl.waitForNewConnection(Native Method)\r\n\tat java.net.DualStackPlainSocketImpl.socketAccept(DualStackPlainSocketImpl.java:135)\r\n\tat java.net.AbstractPlainSocketImpl.accept(AbstractPlainSocketImpl.java:409)\r\n\tat java.net.PlainSocketImpl.accept(PlainSocketImpl.java:199)\r\n\tat java.net.ServerSocket.implAccept(ServerSocket.java:545)\r\n\tat java.net.ServerSocket.accept(ServerSocket.java:513)\r\n\tat org.apache.spark.api.python.PythonWorkerFactory.createSimpleWorker(PythonWorkerFactory.scala:179)\r\n\t... 30 more\r\n\nDriver stacktrace:\r\n\tat org.apache.spark.scheduler.DAGScheduler.failJobAndIndependentStages(DAGScheduler.scala:2785)\r\n\tat org.apache.spark.scheduler.DAGScheduler.$anonfun$abortStage$2(DAGScheduler.scala:2721)\r\n\tat org.apache.spark.scheduler.DAGScheduler.$anonfun$abortStage$2$adapted(DAGScheduler.scala:2720)\r\n\tat scala.collection.immutable.List.foreach(List.scala:333)\r\n\tat org.apache.spark.scheduler.DAGScheduler.abortStage(DAGScheduler.scala:2720)\r\n\tat org.apache.spark.scheduler.DAGScheduler.$anonfun$handleTaskSetFailed$1(DAGScheduler.scala:1206)\r\n\tat org.apache.spark.scheduler.DAGScheduler.$anonfun$handleTaskSetFailed$1$adapted(DAGScheduler.scala:1206)\r\n\tat scala.Option.foreach(Option.scala:437)\r\n\tat org.apache.spark.scheduler.DAGScheduler.handleTaskSetFailed(DAGScheduler.scala:1206)\r\n\tat org.apache.spark.scheduler.DAGSchedulerEventProcessLoop.doOnReceive(DAGScheduler.scala:2984)\r\n\tat org.apache.spark.scheduler.DAGSchedulerEventProcessLoop.onReceive(DAGScheduler.scala:2923)\r\n\tat org.apache.spark.scheduler.DAGSchedulerEventProcessLoop.onReceive(DAGScheduler.scala:2912)\r\n\tat org.apache.spark.util.EventLoop$$anon$1.run(EventLoop.scala:49)\r\n\tat org.apache.spark.scheduler.DAGScheduler.runJob(DAGScheduler.scala:971)\r\n\tat org.apache.spark.SparkContext.runJob(SparkContext.scala:2263)\r\n\tat org.apache.spark.SparkContext.runJob(SparkContext.scala:2284)\r\n\tat org.apache.spark.SparkContext.runJob(SparkContext.scala:2303)\r\n\tat org.apache.spark.sql.execution.SparkPlan.executeTake(SparkPlan.scala:530)\r\n\tat org.apache.spark.sql.execution.SparkPlan.executeTake(SparkPlan.scala:483)\r\n\tat org.apache.spark.sql.execution.CollectLimitExec.executeCollect(limit.scala:61)\r\n\tat org.apache.spark.sql.Dataset.collectFromPlan(Dataset.scala:4177)\r\n\tat org.apache.spark.sql.Dataset.$anonfun$head$1(Dataset.scala:3161)\r\n\tat org.apache.spark.sql.Dataset.$anonfun$withAction$2(Dataset.scala:4167)\r\n\tat org.apache.spark.sql.execution.QueryExecution$.withInternalError(QueryExecution.scala:526)\r\n\tat org.apache.spark.sql.Dataset.$anonfun$withAction$1(Dataset.scala:4165)\r\n\tat org.apache.spark.sql.execution.SQLExecution$.$anonfun$withNewExecutionId$6(SQLExecution.scala:118)\r\n\tat org.apache.spark.sql.execution.SQLExecution$.withSQLConfPropagated(SQLExecution.scala:195)\r\n\tat org.apache.spark.sql.execution.SQLExecution$.$anonfun$withNewExecutionId$1(SQLExecution.scala:103)\r\n\tat org.apache.spark.sql.SparkSession.withActive(SparkSession.scala:827)\r\n\tat org.apache.spark.sql.execution.SQLExecution$.withNewExecutionId(SQLExecution.scala:65)\r\n\tat org.apache.spark.sql.Dataset.withAction(Dataset.scala:4165)\r\n\tat org.apache.spark.sql.Dataset.head(Dataset.scala:3161)\r\n\tat org.apache.spark.sql.Dataset.take(Dataset.scala:3382)\r\n\tat org.apache.spark.sql.Dataset.getRows(Dataset.scala:284)\r\n\tat org.apache.spark.sql.Dataset.showString(Dataset.scala:323)\r\n\tat sun.reflect.GeneratedMethodAccessor65.invoke(Unknown Source)\r\n\tat sun.reflect.DelegatingMethodAccessorImpl.invoke(DelegatingMethodAccessorImpl.java:43)\r\n\tat java.lang.reflect.Method.invoke(Method.java:498)\r\n\tat py4j.reflection.MethodInvoker.invoke(MethodInvoker.java:244)\r\n\tat py4j.reflection.ReflectionEngine.invoke(ReflectionEngine.java:374)\r\n\tat py4j.Gateway.invoke(Gateway.java:282)\r\n\tat py4j.commands.AbstractCommand.invokeMethod(AbstractCommand.java:132)\r\n\tat py4j.commands.CallCommand.execute(CallCommand.java:79)\r\n\tat py4j.ClientServerConnection.waitForCommands(ClientServerConnection.java:182)\r\n\tat py4j.ClientServerConnection.run(ClientServerConnection.java:106)\r\n\tat java.lang.Thread.run(Thread.java:748)\r\nCaused by: org.apache.spark.SparkException: Python worker failed to connect back.\r\n\tat org.apache.spark.api.python.PythonWorkerFactory.createSimpleWorker(PythonWorkerFactory.scala:192)\r\n\tat org.apache.spark.api.python.PythonWorkerFactory.create(PythonWorkerFactory.scala:109)\r\n\tat org.apache.spark.SparkEnv.createPythonWorker(SparkEnv.scala:124)\r\n\tat org.apache.spark.api.python.BasePythonRunner.compute(PythonRunner.scala:166)\r\n\tat org.apache.spark.api.python.PythonRDD.compute(PythonRDD.scala:65)\r\n\tat org.apache.spark.rdd.RDD.computeOrReadCheckpoint(RDD.scala:364)\r\n\tat org.apache.spark.rdd.RDD.iterator(RDD.scala:328)\r\n\tat org.apache.spark.rdd.MapPartitionsRDD.compute(MapPartitionsRDD.scala:52)\r\n\tat org.apache.spark.rdd.RDD.computeOrReadCheckpoint(RDD.scala:364)\r\n\tat org.apache.spark.rdd.RDD.iterator(RDD.scala:328)\r\n\tat org.apache.spark.rdd.MapPartitionsRDD.compute(MapPartitionsRDD.scala:52)\r\n\tat org.apache.spark.rdd.RDD.computeOrReadCheckpoint(RDD.scala:364)\r\n\tat org.apache.spark.rdd.RDD.iterator(RDD.scala:328)\r\n\tat org.apache.spark.rdd.MapPartitionsRDD.compute(MapPartitionsRDD.scala:52)\r\n\tat org.apache.spark.rdd.RDD.computeOrReadCheckpoint(RDD.scala:364)\r\n\tat org.apache.spark.rdd.RDD.iterator(RDD.scala:328)\r\n\tat org.apache.spark.rdd.MapPartitionsRDD.compute(MapPartitionsRDD.scala:52)\r\n\tat org.apache.spark.rdd.RDD.computeOrReadCheckpoint(RDD.scala:364)\r\n\tat org.apache.spark.rdd.RDD.iterator(RDD.scala:328)\r\n\tat org.apache.spark.rdd.MapPartitionsRDD.compute(MapPartitionsRDD.scala:52)\r\n\tat org.apache.spark.rdd.RDD.computeOrReadCheckpoint(RDD.scala:364)\r\n\tat org.apache.spark.rdd.RDD.iterator(RDD.scala:328)\r\n\tat org.apache.spark.scheduler.ResultTask.runTask(ResultTask.scala:92)\r\n\tat org.apache.spark.TaskContext.runTaskWithListeners(TaskContext.scala:161)\r\n\tat org.apache.spark.scheduler.Task.run(Task.scala:139)\r\n\tat org.apache.spark.executor.Executor$TaskRunner.$anonfun$run$3(Executor.scala:554)\r\n\tat org.apache.spark.util.Utils$.tryWithSafeFinally(Utils.scala:1529)\r\n\tat org.apache.spark.executor.Executor$TaskRunner.run(Executor.scala:557)\r\n\tat java.util.concurrent.ThreadPoolExecutor.runWorker(ThreadPoolExecutor.java:1149)\r\n\tat java.util.concurrent.ThreadPoolExecutor$Worker.run(ThreadPoolExecutor.java:624)\r\n\t... 1 more\r\nCaused by: java.net.SocketTimeoutException: Accept timed out\r\n\tat java.net.DualStackPlainSocketImpl.waitForNewConnection(Native Method)\r\n\tat java.net.DualStackPlainSocketImpl.socketAccept(DualStackPlainSocketImpl.java:135)\r\n\tat java.net.AbstractPlainSocketImpl.accept(AbstractPlainSocketImpl.java:409)\r\n\tat java.net.PlainSocketImpl.accept(PlainSocketImpl.java:199)\r\n\tat java.net.ServerSocket.implAccept(ServerSocket.java:545)\r\n\tat java.net.ServerSocket.accept(ServerSocket.java:513)\r\n\tat org.apache.spark.api.python.PythonWorkerFactory.createSimpleWorker(PythonWorkerFactory.scala:179)\r\n\t... 30 more\r\n",
     "output_type": "error",
     "traceback": [
      "\u001b[1;31m---------------------------------------------------------------------------\u001b[0m",
      "\u001b[1;31mPy4JJavaError\u001b[0m                             Traceback (most recent call last)",
      "\u001b[1;32m<ipython-input-107-1d45a0548e2e>\u001b[0m in \u001b[0;36m<module>\u001b[1;34m\u001b[0m\n\u001b[1;32m----> 1\u001b[1;33m \u001b[0mdf2\u001b[0m\u001b[1;33m.\u001b[0m\u001b[0mshow\u001b[0m\u001b[1;33m(\u001b[0m\u001b[1;33m)\u001b[0m\u001b[1;33m\u001b[0m\u001b[1;33m\u001b[0m\u001b[0m\n\u001b[0m",
      "\u001b[1;32m~\\anaconda3\\lib\\site-packages\\pyspark\\sql\\dataframe.py\u001b[0m in \u001b[0;36mshow\u001b[1;34m(self, n, truncate, vertical)\u001b[0m\n\u001b[0;32m    957\u001b[0m \u001b[1;33m\u001b[0m\u001b[0m\n\u001b[0;32m    958\u001b[0m         \u001b[1;32mif\u001b[0m \u001b[0misinstance\u001b[0m\u001b[1;33m(\u001b[0m\u001b[0mtruncate\u001b[0m\u001b[1;33m,\u001b[0m \u001b[0mbool\u001b[0m\u001b[1;33m)\u001b[0m \u001b[1;32mand\u001b[0m \u001b[0mtruncate\u001b[0m\u001b[1;33m:\u001b[0m\u001b[1;33m\u001b[0m\u001b[1;33m\u001b[0m\u001b[0m\n\u001b[1;32m--> 959\u001b[1;33m             \u001b[0mprint\u001b[0m\u001b[1;33m(\u001b[0m\u001b[0mself\u001b[0m\u001b[1;33m.\u001b[0m\u001b[0m_jdf\u001b[0m\u001b[1;33m.\u001b[0m\u001b[0mshowString\u001b[0m\u001b[1;33m(\u001b[0m\u001b[0mn\u001b[0m\u001b[1;33m,\u001b[0m \u001b[1;36m20\u001b[0m\u001b[1;33m,\u001b[0m \u001b[0mvertical\u001b[0m\u001b[1;33m)\u001b[0m\u001b[1;33m)\u001b[0m\u001b[1;33m\u001b[0m\u001b[1;33m\u001b[0m\u001b[0m\n\u001b[0m\u001b[0;32m    960\u001b[0m         \u001b[1;32melse\u001b[0m\u001b[1;33m:\u001b[0m\u001b[1;33m\u001b[0m\u001b[1;33m\u001b[0m\u001b[0m\n\u001b[0;32m    961\u001b[0m             \u001b[1;32mtry\u001b[0m\u001b[1;33m:\u001b[0m\u001b[1;33m\u001b[0m\u001b[1;33m\u001b[0m\u001b[0m\n",
      "\u001b[1;32m~\\anaconda3\\lib\\site-packages\\py4j\\java_gateway.py\u001b[0m in \u001b[0;36m__call__\u001b[1;34m(self, *args)\u001b[0m\n\u001b[0;32m   1320\u001b[0m \u001b[1;33m\u001b[0m\u001b[0m\n\u001b[0;32m   1321\u001b[0m         \u001b[0manswer\u001b[0m \u001b[1;33m=\u001b[0m \u001b[0mself\u001b[0m\u001b[1;33m.\u001b[0m\u001b[0mgateway_client\u001b[0m\u001b[1;33m.\u001b[0m\u001b[0msend_command\u001b[0m\u001b[1;33m(\u001b[0m\u001b[0mcommand\u001b[0m\u001b[1;33m)\u001b[0m\u001b[1;33m\u001b[0m\u001b[1;33m\u001b[0m\u001b[0m\n\u001b[1;32m-> 1322\u001b[1;33m         return_value = get_return_value(\n\u001b[0m\u001b[0;32m   1323\u001b[0m             answer, self.gateway_client, self.target_id, self.name)\n\u001b[0;32m   1324\u001b[0m \u001b[1;33m\u001b[0m\u001b[0m\n",
      "\u001b[1;32m~\\anaconda3\\lib\\site-packages\\pyspark\\errors\\exceptions\\captured.py\u001b[0m in \u001b[0;36mdeco\u001b[1;34m(*a, **kw)\u001b[0m\n\u001b[0;32m    177\u001b[0m     \u001b[1;32mdef\u001b[0m \u001b[0mdeco\u001b[0m\u001b[1;33m(\u001b[0m\u001b[1;33m*\u001b[0m\u001b[0ma\u001b[0m\u001b[1;33m:\u001b[0m \u001b[0mAny\u001b[0m\u001b[1;33m,\u001b[0m \u001b[1;33m**\u001b[0m\u001b[0mkw\u001b[0m\u001b[1;33m:\u001b[0m \u001b[0mAny\u001b[0m\u001b[1;33m)\u001b[0m \u001b[1;33m->\u001b[0m \u001b[0mAny\u001b[0m\u001b[1;33m:\u001b[0m\u001b[1;33m\u001b[0m\u001b[1;33m\u001b[0m\u001b[0m\n\u001b[0;32m    178\u001b[0m         \u001b[1;32mtry\u001b[0m\u001b[1;33m:\u001b[0m\u001b[1;33m\u001b[0m\u001b[1;33m\u001b[0m\u001b[0m\n\u001b[1;32m--> 179\u001b[1;33m             \u001b[1;32mreturn\u001b[0m \u001b[0mf\u001b[0m\u001b[1;33m(\u001b[0m\u001b[1;33m*\u001b[0m\u001b[0ma\u001b[0m\u001b[1;33m,\u001b[0m \u001b[1;33m**\u001b[0m\u001b[0mkw\u001b[0m\u001b[1;33m)\u001b[0m\u001b[1;33m\u001b[0m\u001b[1;33m\u001b[0m\u001b[0m\n\u001b[0m\u001b[0;32m    180\u001b[0m         \u001b[1;32mexcept\u001b[0m \u001b[0mPy4JJavaError\u001b[0m \u001b[1;32mas\u001b[0m \u001b[0me\u001b[0m\u001b[1;33m:\u001b[0m\u001b[1;33m\u001b[0m\u001b[1;33m\u001b[0m\u001b[0m\n\u001b[0;32m    181\u001b[0m             \u001b[0mconverted\u001b[0m \u001b[1;33m=\u001b[0m \u001b[0mconvert_exception\u001b[0m\u001b[1;33m(\u001b[0m\u001b[0me\u001b[0m\u001b[1;33m.\u001b[0m\u001b[0mjava_exception\u001b[0m\u001b[1;33m)\u001b[0m\u001b[1;33m\u001b[0m\u001b[1;33m\u001b[0m\u001b[0m\n",
      "\u001b[1;32m~\\anaconda3\\lib\\site-packages\\py4j\\protocol.py\u001b[0m in \u001b[0;36mget_return_value\u001b[1;34m(answer, gateway_client, target_id, name)\u001b[0m\n\u001b[0;32m    324\u001b[0m             \u001b[0mvalue\u001b[0m \u001b[1;33m=\u001b[0m \u001b[0mOUTPUT_CONVERTER\u001b[0m\u001b[1;33m[\u001b[0m\u001b[0mtype\u001b[0m\u001b[1;33m]\u001b[0m\u001b[1;33m(\u001b[0m\u001b[0manswer\u001b[0m\u001b[1;33m[\u001b[0m\u001b[1;36m2\u001b[0m\u001b[1;33m:\u001b[0m\u001b[1;33m]\u001b[0m\u001b[1;33m,\u001b[0m \u001b[0mgateway_client\u001b[0m\u001b[1;33m)\u001b[0m\u001b[1;33m\u001b[0m\u001b[1;33m\u001b[0m\u001b[0m\n\u001b[0;32m    325\u001b[0m             \u001b[1;32mif\u001b[0m \u001b[0manswer\u001b[0m\u001b[1;33m[\u001b[0m\u001b[1;36m1\u001b[0m\u001b[1;33m]\u001b[0m \u001b[1;33m==\u001b[0m \u001b[0mREFERENCE_TYPE\u001b[0m\u001b[1;33m:\u001b[0m\u001b[1;33m\u001b[0m\u001b[1;33m\u001b[0m\u001b[0m\n\u001b[1;32m--> 326\u001b[1;33m                 raise Py4JJavaError(\n\u001b[0m\u001b[0;32m    327\u001b[0m                     \u001b[1;34m\"An error occurred while calling {0}{1}{2}.\\n\"\u001b[0m\u001b[1;33m.\u001b[0m\u001b[1;33m\u001b[0m\u001b[1;33m\u001b[0m\u001b[0m\n\u001b[0;32m    328\u001b[0m                     format(target_id, \".\", name), value)\n",
      "\u001b[1;31mPy4JJavaError\u001b[0m: An error occurred while calling o282.showString.\n: org.apache.spark.SparkException: Job aborted due to stage failure: Task 0 in stage 54.0 failed 1 times, most recent failure: Lost task 0.0 in stage 54.0 (TID 48) (Kantilal-AI.mshome.net executor driver): org.apache.spark.SparkException: Python worker failed to connect back.\r\n\tat org.apache.spark.api.python.PythonWorkerFactory.createSimpleWorker(PythonWorkerFactory.scala:192)\r\n\tat org.apache.spark.api.python.PythonWorkerFactory.create(PythonWorkerFactory.scala:109)\r\n\tat org.apache.spark.SparkEnv.createPythonWorker(SparkEnv.scala:124)\r\n\tat org.apache.spark.api.python.BasePythonRunner.compute(PythonRunner.scala:166)\r\n\tat org.apache.spark.api.python.PythonRDD.compute(PythonRDD.scala:65)\r\n\tat org.apache.spark.rdd.RDD.computeOrReadCheckpoint(RDD.scala:364)\r\n\tat org.apache.spark.rdd.RDD.iterator(RDD.scala:328)\r\n\tat org.apache.spark.rdd.MapPartitionsRDD.compute(MapPartitionsRDD.scala:52)\r\n\tat org.apache.spark.rdd.RDD.computeOrReadCheckpoint(RDD.scala:364)\r\n\tat org.apache.spark.rdd.RDD.iterator(RDD.scala:328)\r\n\tat org.apache.spark.rdd.MapPartitionsRDD.compute(MapPartitionsRDD.scala:52)\r\n\tat org.apache.spark.rdd.RDD.computeOrReadCheckpoint(RDD.scala:364)\r\n\tat org.apache.spark.rdd.RDD.iterator(RDD.scala:328)\r\n\tat org.apache.spark.rdd.MapPartitionsRDD.compute(MapPartitionsRDD.scala:52)\r\n\tat org.apache.spark.rdd.RDD.computeOrReadCheckpoint(RDD.scala:364)\r\n\tat org.apache.spark.rdd.RDD.iterator(RDD.scala:328)\r\n\tat org.apache.spark.rdd.MapPartitionsRDD.compute(MapPartitionsRDD.scala:52)\r\n\tat org.apache.spark.rdd.RDD.computeOrReadCheckpoint(RDD.scala:364)\r\n\tat org.apache.spark.rdd.RDD.iterator(RDD.scala:328)\r\n\tat org.apache.spark.rdd.MapPartitionsRDD.compute(MapPartitionsRDD.scala:52)\r\n\tat org.apache.spark.rdd.RDD.computeOrReadCheckpoint(RDD.scala:364)\r\n\tat org.apache.spark.rdd.RDD.iterator(RDD.scala:328)\r\n\tat org.apache.spark.scheduler.ResultTask.runTask(ResultTask.scala:92)\r\n\tat org.apache.spark.TaskContext.runTaskWithListeners(TaskContext.scala:161)\r\n\tat org.apache.spark.scheduler.Task.run(Task.scala:139)\r\n\tat org.apache.spark.executor.Executor$TaskRunner.$anonfun$run$3(Executor.scala:554)\r\n\tat org.apache.spark.util.Utils$.tryWithSafeFinally(Utils.scala:1529)\r\n\tat org.apache.spark.executor.Executor$TaskRunner.run(Executor.scala:557)\r\n\tat java.util.concurrent.ThreadPoolExecutor.runWorker(ThreadPoolExecutor.java:1149)\r\n\tat java.util.concurrent.ThreadPoolExecutor$Worker.run(ThreadPoolExecutor.java:624)\r\n\tat java.lang.Thread.run(Thread.java:748)\r\nCaused by: java.net.SocketTimeoutException: Accept timed out\r\n\tat java.net.DualStackPlainSocketImpl.waitForNewConnection(Native Method)\r\n\tat java.net.DualStackPlainSocketImpl.socketAccept(DualStackPlainSocketImpl.java:135)\r\n\tat java.net.AbstractPlainSocketImpl.accept(AbstractPlainSocketImpl.java:409)\r\n\tat java.net.PlainSocketImpl.accept(PlainSocketImpl.java:199)\r\n\tat java.net.ServerSocket.implAccept(ServerSocket.java:545)\r\n\tat java.net.ServerSocket.accept(ServerSocket.java:513)\r\n\tat org.apache.spark.api.python.PythonWorkerFactory.createSimpleWorker(PythonWorkerFactory.scala:179)\r\n\t... 30 more\r\n\nDriver stacktrace:\r\n\tat org.apache.spark.scheduler.DAGScheduler.failJobAndIndependentStages(DAGScheduler.scala:2785)\r\n\tat org.apache.spark.scheduler.DAGScheduler.$anonfun$abortStage$2(DAGScheduler.scala:2721)\r\n\tat org.apache.spark.scheduler.DAGScheduler.$anonfun$abortStage$2$adapted(DAGScheduler.scala:2720)\r\n\tat scala.collection.immutable.List.foreach(List.scala:333)\r\n\tat org.apache.spark.scheduler.DAGScheduler.abortStage(DAGScheduler.scala:2720)\r\n\tat org.apache.spark.scheduler.DAGScheduler.$anonfun$handleTaskSetFailed$1(DAGScheduler.scala:1206)\r\n\tat org.apache.spark.scheduler.DAGScheduler.$anonfun$handleTaskSetFailed$1$adapted(DAGScheduler.scala:1206)\r\n\tat scala.Option.foreach(Option.scala:437)\r\n\tat org.apache.spark.scheduler.DAGScheduler.handleTaskSetFailed(DAGScheduler.scala:1206)\r\n\tat org.apache.spark.scheduler.DAGSchedulerEventProcessLoop.doOnReceive(DAGScheduler.scala:2984)\r\n\tat org.apache.spark.scheduler.DAGSchedulerEventProcessLoop.onReceive(DAGScheduler.scala:2923)\r\n\tat org.apache.spark.scheduler.DAGSchedulerEventProcessLoop.onReceive(DAGScheduler.scala:2912)\r\n\tat org.apache.spark.util.EventLoop$$anon$1.run(EventLoop.scala:49)\r\n\tat org.apache.spark.scheduler.DAGScheduler.runJob(DAGScheduler.scala:971)\r\n\tat org.apache.spark.SparkContext.runJob(SparkContext.scala:2263)\r\n\tat org.apache.spark.SparkContext.runJob(SparkContext.scala:2284)\r\n\tat org.apache.spark.SparkContext.runJob(SparkContext.scala:2303)\r\n\tat org.apache.spark.sql.execution.SparkPlan.executeTake(SparkPlan.scala:530)\r\n\tat org.apache.spark.sql.execution.SparkPlan.executeTake(SparkPlan.scala:483)\r\n\tat org.apache.spark.sql.execution.CollectLimitExec.executeCollect(limit.scala:61)\r\n\tat org.apache.spark.sql.Dataset.collectFromPlan(Dataset.scala:4177)\r\n\tat org.apache.spark.sql.Dataset.$anonfun$head$1(Dataset.scala:3161)\r\n\tat org.apache.spark.sql.Dataset.$anonfun$withAction$2(Dataset.scala:4167)\r\n\tat org.apache.spark.sql.execution.QueryExecution$.withInternalError(QueryExecution.scala:526)\r\n\tat org.apache.spark.sql.Dataset.$anonfun$withAction$1(Dataset.scala:4165)\r\n\tat org.apache.spark.sql.execution.SQLExecution$.$anonfun$withNewExecutionId$6(SQLExecution.scala:118)\r\n\tat org.apache.spark.sql.execution.SQLExecution$.withSQLConfPropagated(SQLExecution.scala:195)\r\n\tat org.apache.spark.sql.execution.SQLExecution$.$anonfun$withNewExecutionId$1(SQLExecution.scala:103)\r\n\tat org.apache.spark.sql.SparkSession.withActive(SparkSession.scala:827)\r\n\tat org.apache.spark.sql.execution.SQLExecution$.withNewExecutionId(SQLExecution.scala:65)\r\n\tat org.apache.spark.sql.Dataset.withAction(Dataset.scala:4165)\r\n\tat org.apache.spark.sql.Dataset.head(Dataset.scala:3161)\r\n\tat org.apache.spark.sql.Dataset.take(Dataset.scala:3382)\r\n\tat org.apache.spark.sql.Dataset.getRows(Dataset.scala:284)\r\n\tat org.apache.spark.sql.Dataset.showString(Dataset.scala:323)\r\n\tat sun.reflect.GeneratedMethodAccessor65.invoke(Unknown Source)\r\n\tat sun.reflect.DelegatingMethodAccessorImpl.invoke(DelegatingMethodAccessorImpl.java:43)\r\n\tat java.lang.reflect.Method.invoke(Method.java:498)\r\n\tat py4j.reflection.MethodInvoker.invoke(MethodInvoker.java:244)\r\n\tat py4j.reflection.ReflectionEngine.invoke(ReflectionEngine.java:374)\r\n\tat py4j.Gateway.invoke(Gateway.java:282)\r\n\tat py4j.commands.AbstractCommand.invokeMethod(AbstractCommand.java:132)\r\n\tat py4j.commands.CallCommand.execute(CallCommand.java:79)\r\n\tat py4j.ClientServerConnection.waitForCommands(ClientServerConnection.java:182)\r\n\tat py4j.ClientServerConnection.run(ClientServerConnection.java:106)\r\n\tat java.lang.Thread.run(Thread.java:748)\r\nCaused by: org.apache.spark.SparkException: Python worker failed to connect back.\r\n\tat org.apache.spark.api.python.PythonWorkerFactory.createSimpleWorker(PythonWorkerFactory.scala:192)\r\n\tat org.apache.spark.api.python.PythonWorkerFactory.create(PythonWorkerFactory.scala:109)\r\n\tat org.apache.spark.SparkEnv.createPythonWorker(SparkEnv.scala:124)\r\n\tat org.apache.spark.api.python.BasePythonRunner.compute(PythonRunner.scala:166)\r\n\tat org.apache.spark.api.python.PythonRDD.compute(PythonRDD.scala:65)\r\n\tat org.apache.spark.rdd.RDD.computeOrReadCheckpoint(RDD.scala:364)\r\n\tat org.apache.spark.rdd.RDD.iterator(RDD.scala:328)\r\n\tat org.apache.spark.rdd.MapPartitionsRDD.compute(MapPartitionsRDD.scala:52)\r\n\tat org.apache.spark.rdd.RDD.computeOrReadCheckpoint(RDD.scala:364)\r\n\tat org.apache.spark.rdd.RDD.iterator(RDD.scala:328)\r\n\tat org.apache.spark.rdd.MapPartitionsRDD.compute(MapPartitionsRDD.scala:52)\r\n\tat org.apache.spark.rdd.RDD.computeOrReadCheckpoint(RDD.scala:364)\r\n\tat org.apache.spark.rdd.RDD.iterator(RDD.scala:328)\r\n\tat org.apache.spark.rdd.MapPartitionsRDD.compute(MapPartitionsRDD.scala:52)\r\n\tat org.apache.spark.rdd.RDD.computeOrReadCheckpoint(RDD.scala:364)\r\n\tat org.apache.spark.rdd.RDD.iterator(RDD.scala:328)\r\n\tat org.apache.spark.rdd.MapPartitionsRDD.compute(MapPartitionsRDD.scala:52)\r\n\tat org.apache.spark.rdd.RDD.computeOrReadCheckpoint(RDD.scala:364)\r\n\tat org.apache.spark.rdd.RDD.iterator(RDD.scala:328)\r\n\tat org.apache.spark.rdd.MapPartitionsRDD.compute(MapPartitionsRDD.scala:52)\r\n\tat org.apache.spark.rdd.RDD.computeOrReadCheckpoint(RDD.scala:364)\r\n\tat org.apache.spark.rdd.RDD.iterator(RDD.scala:328)\r\n\tat org.apache.spark.scheduler.ResultTask.runTask(ResultTask.scala:92)\r\n\tat org.apache.spark.TaskContext.runTaskWithListeners(TaskContext.scala:161)\r\n\tat org.apache.spark.scheduler.Task.run(Task.scala:139)\r\n\tat org.apache.spark.executor.Executor$TaskRunner.$anonfun$run$3(Executor.scala:554)\r\n\tat org.apache.spark.util.Utils$.tryWithSafeFinally(Utils.scala:1529)\r\n\tat org.apache.spark.executor.Executor$TaskRunner.run(Executor.scala:557)\r\n\tat java.util.concurrent.ThreadPoolExecutor.runWorker(ThreadPoolExecutor.java:1149)\r\n\tat java.util.concurrent.ThreadPoolExecutor$Worker.run(ThreadPoolExecutor.java:624)\r\n\t... 1 more\r\nCaused by: java.net.SocketTimeoutException: Accept timed out\r\n\tat java.net.DualStackPlainSocketImpl.waitForNewConnection(Native Method)\r\n\tat java.net.DualStackPlainSocketImpl.socketAccept(DualStackPlainSocketImpl.java:135)\r\n\tat java.net.AbstractPlainSocketImpl.accept(AbstractPlainSocketImpl.java:409)\r\n\tat java.net.PlainSocketImpl.accept(PlainSocketImpl.java:199)\r\n\tat java.net.ServerSocket.implAccept(ServerSocket.java:545)\r\n\tat java.net.ServerSocket.accept(ServerSocket.java:513)\r\n\tat org.apache.spark.api.python.PythonWorkerFactory.createSimpleWorker(PythonWorkerFactory.scala:179)\r\n\t... 30 more\r\n"
     ]
    }
   ],
   "source": [
    "df2.show()"
   ]
  },
  {
   "cell_type": "code",
   "execution_count": null,
   "id": "33ad828f",
   "metadata": {},
   "outputs": [],
   "source": []
  }
 ],
 "metadata": {
  "kernelspec": {
   "display_name": "Python 3",
   "language": "python",
   "name": "python3"
  },
  "language_info": {
   "codemirror_mode": {
    "name": "ipython",
    "version": 3
   },
   "file_extension": ".py",
   "mimetype": "text/x-python",
   "name": "python",
   "nbconvert_exporter": "python",
   "pygments_lexer": "ipython3",
   "version": "3.8.8"
  }
 },
 "nbformat": 4,
 "nbformat_minor": 5
}
